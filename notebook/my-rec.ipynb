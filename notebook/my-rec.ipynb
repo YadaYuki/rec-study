{
 "cells": [
  {
   "cell_type": "code",
   "execution_count": null,
   "metadata": {},
   "outputs": [],
   "source": [
    "# Q: \n",
    "# どんな特徴量を入力としているか？\n",
    "# 何をターゲット変数としているか？\n",
    "# 各モデルどの程度精度が出るのか？\n",
    "# オリジナルなモデルをLightGBMで作ってみる。 // これ面白そう"
   ]
  },
  {
   "cell_type": "code",
   "execution_count": null,
   "metadata": {},
   "outputs": [],
   "source": [
    "# "
   ]
  }
 ],
 "metadata": {
  "language_info": {
   "name": "python"
  },
  "orig_nbformat": 4
 },
 "nbformat": 4,
 "nbformat_minor": 2
}
